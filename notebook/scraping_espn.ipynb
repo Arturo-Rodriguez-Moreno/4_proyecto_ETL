{
 "cells": [
  {
   "cell_type": "code",
   "execution_count": 1,
   "id": "b13fcc0a",
   "metadata": {},
   "outputs": [],
   "source": [
    "# %pip install fake-useragent"
   ]
  },
  {
   "cell_type": "code",
   "execution_count": 2,
   "id": "dd991d90",
   "metadata": {
    "scrolled": true
   },
   "outputs": [
    {
     "name": "stderr",
     "output_type": "stream",
     "text": [
      "\n",
      "\n",
      "====== WebDriver manager ======\n",
      "Current google-chrome version is 100.0.4896\n",
      "Get LATEST chromedriver version for 100.0.4896 google-chrome\n",
      "Trying to download new driver from https://chromedriver.storage.googleapis.com/100.0.4896.60/chromedriver_win32.zip\n",
      "Driver has been saved in cache [C:\\Users\\usuario\\.wdm\\drivers\\chromedriver\\win32\\100.0.4896.60]\n"
     ]
    }
   ],
   "source": [
    "from selenium import webdriver\n",
    "\n",
    "import time\n",
    "\n",
    "import warnings\n",
    "warnings.filterwarnings('ignore')\n",
    "\n",
    "import pandas as pd\n",
    "\n",
    "from webdriver_manager.chrome import ChromeDriverManager\n",
    "\n",
    "PATH=ChromeDriverManager().install()"
   ]
  },
  {
   "cell_type": "code",
   "execution_count": 3,
   "id": "c7265ee0",
   "metadata": {},
   "outputs": [],
   "source": [
    "from selenium.webdriver.chrome.options import Options"
   ]
  },
  {
   "cell_type": "code",
   "execution_count": 4,
   "id": "e01ac36f",
   "metadata": {},
   "outputs": [],
   "source": [
    "# opciones del driver\n",
    "\n",
    "opciones=Options()\n",
    "\n",
    "# quita la bandera de ser robot\n",
    "opciones.add_experimental_option('excludeSwitches', ['enable-automation'])\n",
    "opciones.add_experimental_option('useAutomationExtension', False)\n",
    "\n",
    "opciones.headless=False   # si True, no aparece la ventana (headless=no visible)\n",
    "\n",
    "opciones.add_argument('--start-maximized')         # comienza maximizado\n",
    "\n",
    "#opciones.add_extension('driver/adblock.crx')       # adblocker\n",
    "\n",
    "\n",
    "#opciones.add_argument('user-data-dir=selenium')    # mantiene las coockies\n",
    "\n",
    "\n",
    "#opciones.add_argument('--incognito')              # incognito\n",
    " \n",
    "#opciones.add_argument('--no-proxy-server')                 # sin proxy\n",
    "#opciones.add_argument('proxy-server=106.122.8.54:3128')    # proxy custom\n"
   ]
  },
  {
   "cell_type": "code",
   "execution_count": 5,
   "id": "ca2996aa",
   "metadata": {},
   "outputs": [
    {
     "name": "stdout",
     "output_type": "stream",
     "text": [
      "Mozilla/5.0 (Windows NT 6.1; WOW64) AppleWebKit/537.17 (KHTML, like Gecko) Chrome/24.0.1312.60 Safari/537.17\n"
     ]
    }
   ],
   "source": [
    "from fake_useragent import UserAgent\n",
    "\n",
    "usuario=UserAgent().random\n",
    "\n",
    "print(usuario)\n",
    "\n",
    "#opciones.add_argument(f'user-agent={usuario}')"
   ]
  },
  {
   "cell_type": "code",
   "execution_count": 6,
   "id": "9ed47421",
   "metadata": {},
   "outputs": [
    {
     "data": {
      "text/plain": [
       "'url=\\'http://www.espn.com/nba/\\'\\n\\n# inicia el driver\\ndriver=webdriver.Chrome(PATH)\\ndriver.get(url)\\n\\n# acepta cookies\\naceptar=driver.find_element_by_xpath(\\'//*[@id=\"onetrust-accept-btn-handler\"]\\')\\naceptar.click()\\n\\ntime.sleep(2)\\n\\n# selecciona pestaña de more\\n\\naceptar=driver.find_element_by_xpath(\\'//*[@id=\"global-nav-secondary\"]/div/ul/li[14]/a/span[1]\\')\\naceptar.click()\\n\\n#Entro en  NBA History.\\n\\naceptar=driver.find_element_by_xpath(\\'//*[@id=\"global-nav-secondary\"]/div/ul/li[14]/div/ul/li[9]/a\\')\\n\\naceptar.click()\\n\\n# Me quedo con todas las urls de la NBA Histroy en el apartado leaders.\\n\\nhistory_stats=driver.find_element_by_xpath(\\'//*[@id=\"content\"]/div[2]/div/div\\')\\n\\nstats_url= history_stats.find_elements_by_tag_name(\\'a\\')\\n\\nhistory_stats_url = [i.get_attribute(\\'href\\') for i in stats_url if \\'/leaders\\' in i.get_attribute(\\'href\\')]\\n\\n\\ndriver.quit()\\n\\nhistory_stats_url'"
      ]
     },
     "execution_count": 6,
     "metadata": {},
     "output_type": "execute_result"
    }
   ],
   "source": [
    "'''url='http://www.espn.com/nba/'\n",
    "\n",
    "# inicia el driver\n",
    "driver=webdriver.Chrome(PATH)\n",
    "driver.get(url)\n",
    "\n",
    "# acepta cookies\n",
    "aceptar=driver.find_element_by_xpath('//*[@id=\"onetrust-accept-btn-handler\"]')\n",
    "aceptar.click()\n",
    "\n",
    "time.sleep(2)\n",
    "\n",
    "# selecciona pestaña de more\n",
    "\n",
    "aceptar=driver.find_element_by_xpath('//*[@id=\"global-nav-secondary\"]/div/ul/li[14]/a/span[1]')\n",
    "aceptar.click()\n",
    "\n",
    "#Entro en  NBA History.\n",
    "\n",
    "aceptar=driver.find_element_by_xpath('//*[@id=\"global-nav-secondary\"]/div/ul/li[14]/div/ul/li[9]/a')\n",
    "\n",
    "aceptar.click()\n",
    "\n",
    "# Me quedo con todas las urls de la NBA Histroy en el apartado leaders.\n",
    "\n",
    "history_stats=driver.find_element_by_xpath('//*[@id=\"content\"]/div[2]/div/div')\n",
    "\n",
    "stats_url= history_stats.find_elements_by_tag_name('a')\n",
    "\n",
    "history_stats_url = [i.get_attribute('href') for i in stats_url if '/leaders' in i.get_attribute('href')]\n",
    "\n",
    "\n",
    "driver.quit()\n",
    "\n",
    "history_stats_url'''\n"
   ]
  },
  {
   "cell_type": "code",
   "execution_count": 7,
   "id": "58896917",
   "metadata": {},
   "outputs": [
    {
     "data": {
      "text/plain": [
       "['http://www.espn.com/nba/history/leaders/_/stat/rebounds',\n",
       " 'http://www.espn.com/nba/history/leaders/_/stat/assists',\n",
       " 'http://www.espn.com/nba/history/leaders/_/stat/steals',\n",
       " 'http://www.espn.com/nba/history/leaders/_/stat/blocks',\n",
       " 'http://www.espn.com/nba/history/leaders']"
      ]
     },
     "execution_count": 7,
     "metadata": {},
     "output_type": "execute_result"
    }
   ],
   "source": [
    "url='http://www.espn.com/nba/history/leaders'\n",
    "\n",
    "# inicia el driver\n",
    "driver=webdriver.Chrome(PATH, options=opciones)\n",
    "driver.get(url)\n",
    "\n",
    "# Me quedo con todas las urls de la NBA Histroy en el apartado leaders.\n",
    "\n",
    "history_stats=driver.find_element_by_xpath('//*[@id=\"content\"]/div[2]/div/div')\n",
    "\n",
    "stats_url= history_stats.find_elements_by_tag_name('a')\n",
    "\n",
    "history_stats_url = [i.get_attribute('href') for i in stats_url if '/leaders' in i.get_attribute('href')]\n",
    "\n",
    "\n",
    "driver.quit()\n",
    "\n",
    "history_stats_url"
   ]
  },
  {
   "cell_type": "markdown",
   "id": "885f4a4e",
   "metadata": {},
   "source": [
    "### REVISAR CON BEAUTIFULSOUP PARA HACER LO MISMO"
   ]
  },
  {
   "cell_type": "code",
   "execution_count": 19,
   "id": "f6a2eabe",
   "metadata": {},
   "outputs": [],
   "source": [
    "def extract_table(url):\n",
    "\n",
    "    driver=webdriver.Chrome(PATH, options=opciones)\n",
    "\n",
    "    driver.get(url)\n",
    "\n",
    "    tabla=driver.find_element_by_tag_name('tbody')\n",
    "\n",
    "    filas=tabla.find_elements_by_tag_name('tr')\n",
    "\n",
    "\n",
    "\n",
    "    data=[]\n",
    "\n",
    "    for f in filas:\n",
    "\n",
    "        elementos=f.find_elements_by_tag_name('td')\n",
    "\n",
    "        tmp=[]\n",
    "\n",
    "        for e in elementos:\n",
    "\n",
    "            tmp.append(e.text)\n",
    "\n",
    "        data.append(tmp)\n",
    "\n",
    "    driver.quit()\n",
    "    \n",
    "    return data"
   ]
  },
  {
   "cell_type": "code",
   "execution_count": 20,
   "id": "438345e3",
   "metadata": {},
   "outputs": [],
   "source": [
    "# Extraigo todas la tablas de nba_history\n",
    "\n",
    "\n",
    "extract_table(history_stats_url[0])\n",
    "\n",
    "hist_rebounds=pd.DataFrame(data[2:], columns=data[1])\n",
    "\n",
    "extract_table(history_stats_url[1])\n",
    "hist_assists=pd.DataFrame(data[2:], columns=data[1])\n",
    "\n",
    "extract_table(history_stats_url[2])\n",
    "hist_steals=pd.DataFrame(data[2:], columns=data[1])\n",
    "\n",
    "extract_table(history_stats_url[3])\n",
    "hist_blocks=pd.DataFrame(data[2:], columns=data[1])\n",
    "\n",
    "extract_table(history_stats_url[4])\n",
    "hist_point=pd.DataFrame(data[2:], columns=data[1])\n",
    "\n"
   ]
  },
  {
   "cell_type": "code",
   "execution_count": 25,
   "id": "fd92706e",
   "metadata": {},
   "outputs": [],
   "source": [
    "hist_rebounds.to_csv('../data/data_espn/hist_rebounds.csv', sep=',', index=False)\n",
    "hist_assists.to_csv('../data/data_espn/hist_assists.csv', sep=',', index=False)\n",
    "hist_steals.to_csv('../data/data_espn/hist_steals.csv', sep=',', index=False)\n",
    "hist_blocks.to_csv('../data/data_espn/hist_blocks.csv', sep=',', index=False)\n",
    "hist_point.to_csv('../data/data_espn/hist_point.csv', sep=',', index=False)\n",
    "\n",
    "\n"
   ]
  },
  {
   "cell_type": "code",
   "execution_count": null,
   "id": "0e0e4c29",
   "metadata": {},
   "outputs": [],
   "source": []
  }
 ],
 "metadata": {
  "kernelspec": {
   "display_name": "clase",
   "language": "python",
   "name": "clase"
  },
  "language_info": {
   "codemirror_mode": {
    "name": "ipython",
    "version": 3
   },
   "file_extension": ".py",
   "mimetype": "text/x-python",
   "name": "python",
   "nbconvert_exporter": "python",
   "pygments_lexer": "ipython3",
   "version": "3.9.7"
  }
 },
 "nbformat": 4,
 "nbformat_minor": 5
}
