{
 "cells": [
  {
   "cell_type": "code",
   "execution_count": 1,
   "id": "d5e4cb24",
   "metadata": {},
   "outputs": [],
   "source": [
    "import pandas as pd\n",
    "import numpy as np\n",
    "\n",
    "pd.set_option('display.max_columns', None)  # es para enseñar todas las columnas del df\n",
    "\n",
    "import warnings\n",
    "warnings.simplefilter('ignore')   # es para quitar warnings"
   ]
  },
  {
   "cell_type": "code",
   "execution_count": 2,
   "id": "af6f7912",
   "metadata": {},
   "outputs": [],
   "source": [
    "from selenium import webdriver"
   ]
  },
  {
   "cell_type": "code",
   "execution_count": 3,
   "id": "9da91687",
   "metadata": {},
   "outputs": [],
   "source": [
    "from selenium import webdriver\n",
    "from selenium.webdriver.chrome.options import Options\n",
    "from webdriver_manager.chrome import ChromeDriverManager\n"
   ]
  },
  {
   "cell_type": "code",
   "execution_count": 4,
   "id": "80ac0efc",
   "metadata": {},
   "outputs": [],
   "source": [
    "import requests as req"
   ]
  },
  {
   "cell_type": "markdown",
   "id": "a9b6a134",
   "metadata": {},
   "source": [
    "### Web scraping"
   ]
  },
  {
   "cell_type": "code",
   "execution_count": 5,
   "id": "7814b0dd",
   "metadata": {},
   "outputs": [
    {
     "name": "stderr",
     "output_type": "stream",
     "text": [
      "\n",
      "\n",
      "====== WebDriver manager ======\n",
      "Current google-chrome version is 100.0.4896\n",
      "Get LATEST chromedriver version for 100.0.4896 google-chrome\n",
      "Driver [C:\\Users\\usuario\\.wdm\\drivers\\chromedriver\\win32\\100.0.4896.60\\chromedriver.exe] found in cache\n"
     ]
    }
   ],
   "source": [
    "PATH=ChromeDriverManager().install()\n",
    "driver=webdriver.Chrome(PATH)"
   ]
  },
  {
   "cell_type": "code",
   "execution_count": 6,
   "id": "921b8770",
   "metadata": {},
   "outputs": [],
   "source": [
    "#driver configuration\n",
    "opciones=Options()\n",
    "\n",
    "opciones.add_experimental_option('excludeSwitches', ['enable-automation'])\n",
    "opciones.add_experimental_option('useAutomationExtension', False)\n",
    "opciones.headless=False    # si True, no aperece la ventana (headless=no visible)\n",
    "opciones.add_argument('--start-maximized')         # comienza maximizado\n",
    "#opciones.add_argument('user-data-dir=selenium')    # mantiene las cookies\n",
    "#opciones.add_extension('driver_folder/adblock.crx')       # adblocker\n",
    "opciones.add_argument('--incognito')"
   ]
  },
  {
   "cell_type": "code",
   "execution_count": 7,
   "id": "f0ef3813",
   "metadata": {},
   "outputs": [],
   "source": [
    "url = 'https://en.wikipedia.org/wiki/List_of_United_States_cities_by_population'\n",
    "\n",
    "driver.get(url)"
   ]
  },
  {
   "cell_type": "code",
   "execution_count": 8,
   "id": "57bbc1cd",
   "metadata": {},
   "outputs": [],
   "source": [
    "# Scrapeo de una tabla\n",
    "\n",
    "tbody=driver.find_element_by_xpath('//*[@id=\"mw-content-text\"]/div[1]/table[5]/tbody')\n",
    "\n",
    "filas=tbody.find_elements_by_tag_name('tr')\n",
    "\n",
    "\n",
    "data=[[e.text for e in f.find_elements_by_tag_name('td')] for f in filas]\n",
    "\n",
    "cabeceras=driver.find_element_by_tag_name('thead')\n",
    "\n",
    "cabeceras=[c.text for c in cabeceras.find_elements_by_tag_name('th')][1:]"
   ]
  },
  {
   "cell_type": "code",
   "execution_count": 9,
   "id": "712f0483",
   "metadata": {},
   "outputs": [],
   "source": [
    "cities = pd.DataFrame(data)\n",
    "\n",
    "cities = cities.drop(cities.columns[[5, 7]], axis=1)"
   ]
  },
  {
   "cell_type": "code",
   "execution_count": 10,
   "id": "6fb97dbc",
   "metadata": {},
   "outputs": [],
   "source": [
    "cities.columns = cabeceras"
   ]
  },
  {
   "cell_type": "code",
   "execution_count": 11,
   "id": "9dee4a9f",
   "metadata": {},
   "outputs": [],
   "source": [
    "driver.quit()"
   ]
  },
  {
   "cell_type": "markdown",
   "id": "6feed675",
   "metadata": {},
   "source": [
    "### API request (Balldontlie)"
   ]
  },
  {
   "cell_type": "code",
   "execution_count": 12,
   "id": "49aceee2",
   "metadata": {},
   "outputs": [],
   "source": [
    "import time"
   ]
  },
  {
   "cell_type": "code",
   "execution_count": 13,
   "id": "a59bd2e1",
   "metadata": {},
   "outputs": [],
   "source": [
    "# balldontlie genérica para jugadores\n",
    "\n",
    "\n",
    "URL_BASE='https://www.balldontlie.io/api/v1/players?per_page=100&page='"
   ]
  },
  {
   "cell_type": "code",
   "execution_count": 14,
   "id": "b6ecfa9a",
   "metadata": {},
   "outputs": [],
   "source": [
    "# expecifica por id de jugador\n",
    "\n",
    "# player_id = '237'"
   ]
  },
  {
   "cell_type": "code",
   "execution_count": 15,
   "id": "59f05036",
   "metadata": {},
   "outputs": [],
   "source": [
    "# Filtros\n",
    "\n",
    "# page=1  nº de página\n",
    "\n",
    "# perpage=100 # Max 100 per page\n"
   ]
  },
  {
   "cell_type": "code",
   "execution_count": 16,
   "id": "527932d1",
   "metadata": {},
   "outputs": [],
   "source": [
    "# Hago un bucle para recorrer las 38 páginas de 100 jugadores y hago un concat en la lista jugadores\n",
    "# Le pongo 1 seg de sleep porque la api tiene límite por minuto\n",
    "\n",
    "players_data=[]\n",
    "\n",
    "\n",
    "\n",
    "for i in range(1, 39):\n",
    "\n",
    "    \n",
    "    res=req.get(URL_BASE+str(i))\n",
    "    \n",
    "    players_data += res.json()['data']\n",
    "    \n",
    "    time.sleep(1)"
   ]
  },
  {
   "cell_type": "code",
   "execution_count": 17,
   "id": "f8279f76",
   "metadata": {},
   "outputs": [],
   "source": [
    "player_dim = pd.DataFrame(players_data)"
   ]
  },
  {
   "cell_type": "code",
   "execution_count": 18,
   "id": "0e82a749",
   "metadata": {},
   "outputs": [
    {
     "data": {
      "text/html": [
       "<div>\n",
       "<style scoped>\n",
       "    .dataframe tbody tr th:only-of-type {\n",
       "        vertical-align: middle;\n",
       "    }\n",
       "\n",
       "    .dataframe tbody tr th {\n",
       "        vertical-align: top;\n",
       "    }\n",
       "\n",
       "    .dataframe thead th {\n",
       "        text-align: right;\n",
       "    }\n",
       "</style>\n",
       "<table border=\"1\" class=\"dataframe\">\n",
       "  <thead>\n",
       "    <tr style=\"text-align: right;\">\n",
       "      <th></th>\n",
       "      <th>id</th>\n",
       "      <th>first_name</th>\n",
       "      <th>height_feet</th>\n",
       "      <th>height_inches</th>\n",
       "      <th>last_name</th>\n",
       "      <th>position</th>\n",
       "      <th>team</th>\n",
       "      <th>weight_pounds</th>\n",
       "    </tr>\n",
       "  </thead>\n",
       "  <tbody>\n",
       "    <tr>\n",
       "      <th>3565</th>\n",
       "      <td>237</td>\n",
       "      <td>LeBron</td>\n",
       "      <td>6.0</td>\n",
       "      <td>8.0</td>\n",
       "      <td>James</td>\n",
       "      <td>F</td>\n",
       "      <td>{'id': 14, 'abbreviation': 'LAL', 'city': 'Los...</td>\n",
       "      <td>250.0</td>\n",
       "    </tr>\n",
       "  </tbody>\n",
       "</table>\n",
       "</div>"
      ],
      "text/plain": [
       "       id first_name  height_feet  height_inches last_name position  \\\n",
       "3565  237     LeBron          6.0            8.0     James        F   \n",
       "\n",
       "                                                   team  weight_pounds  \n",
       "3565  {'id': 14, 'abbreviation': 'LAL', 'city': 'Los...          250.0  "
      ]
     },
     "execution_count": 18,
     "metadata": {},
     "output_type": "execute_result"
    }
   ],
   "source": [
    "player_dim[player_dim.id == 237]"
   ]
  },
  {
   "cell_type": "markdown",
   "id": "cf0ff6a8",
   "metadata": {},
   "source": [
    "### Export to csv"
   ]
  },
  {
   "cell_type": "code",
   "execution_count": 20,
   "id": "883aef09",
   "metadata": {},
   "outputs": [],
   "source": [
    "cities.to_csv('../data/data_scraping/cities.csv', sep= \",\", index=False)\n",
    "player_dim.to_csv('../data/data_scraping/player_dim.csv', sep= \",\", index=False)"
   ]
  }
 ],
 "metadata": {
  "kernelspec": {
   "display_name": "clase",
   "language": "python",
   "name": "clase"
  },
  "language_info": {
   "codemirror_mode": {
    "name": "ipython",
    "version": 3
   },
   "file_extension": ".py",
   "mimetype": "text/x-python",
   "name": "python",
   "nbconvert_exporter": "python",
   "pygments_lexer": "ipython3",
   "version": "3.9.7"
  }
 },
 "nbformat": 4,
 "nbformat_minor": 5
}
