{
 "cells": [
  {
   "cell_type": "code",
   "execution_count": 1,
   "id": "7708bcb4",
   "metadata": {},
   "outputs": [],
   "source": [
    "import pandas as pd\n",
    "import numpy as np\n",
    "import re\n",
    "\n",
    "pd.set_option('display.max_columns', None)  # es para enseñar todas las columnas del df\n",
    "pd.set_option('display.max_rows', None)     # es para enseñar todas las filas del df\n",
    "\n",
    "import warnings\n",
    "warnings.simplefilter('ignore')   # es para quitar warnings"
   ]
  },
  {
   "cell_type": "code",
   "execution_count": 2,
   "id": "18f208bd",
   "metadata": {},
   "outputs": [],
   "source": [
    "# para pintar\n",
    "import pylab as plt\n",
    "import seaborn as sns\n",
    "\n",
    "# para que salga el grafico\n",
    "%matplotlib inline"
   ]
  },
  {
   "cell_type": "markdown",
   "id": "1b7f80cd",
   "metadata": {},
   "source": [
    "## Importando csv"
   ]
  },
  {
   "cell_type": "code",
   "execution_count": 3,
   "id": "c275d3a4",
   "metadata": {},
   "outputs": [],
   "source": [
    "games = pd.read_csv('../data/data_games/games.csv')\n",
    "games_detail = pd.read_csv('../data/data_games/games_details.csv')\n",
    "players = pd.read_csv('../data/data_games/players.csv')\n",
    "teams = pd.read_csv('../data/data_games/teams.csv')\n",
    "\n",
    "cities = pd.read_csv('../data/data_scraping/cities.csv')\n",
    "player_size= pd.read_csv('../data/data_scraping/player_dim.csv')"
   ]
  },
  {
   "cell_type": "markdown",
   "id": "d169f840",
   "metadata": {},
   "source": [
    "### Games"
   ]
  },
  {
   "cell_type": "code",
   "execution_count": 4,
   "id": "3a97730d",
   "metadata": {},
   "outputs": [],
   "source": [
    "games.columns=[c.lower() for c in games.columns]"
   ]
  },
  {
   "cell_type": "code",
   "execution_count": 5,
   "id": "d1c7c8a0",
   "metadata": {},
   "outputs": [],
   "source": [
    "games.game_date_est = games.game_date_est.astype('datetime64[ns]')\n"
   ]
  },
  {
   "cell_type": "code",
   "execution_count": 6,
   "id": "c3370d51",
   "metadata": {},
   "outputs": [],
   "source": [
    "# Sustituir valores nulos por ceros\n",
    "\n",
    "games.fillna(0, inplace=True)"
   ]
  },
  {
   "cell_type": "code",
   "execution_count": 7,
   "id": "48d40024",
   "metadata": {},
   "outputs": [],
   "source": [
    "games.drop(['home_team_id', 'visitor_team_id', 'game_status_text' ], axis=1, inplace=True)\n"
   ]
  },
  {
   "cell_type": "code",
   "execution_count": 8,
   "id": "09b09cd2",
   "metadata": {},
   "outputs": [],
   "source": [
    "# Elimino duplicados de game_id\n",
    "\n",
    "games.drop_duplicates(subset=['game_id'], inplace=True)\n"
   ]
  },
  {
   "cell_type": "markdown",
   "id": "b70eb617",
   "metadata": {},
   "source": [
    "### Games detail"
   ]
  },
  {
   "cell_type": "code",
   "execution_count": 9,
   "id": "095c6dd3",
   "metadata": {},
   "outputs": [],
   "source": [
    "games_detail.columns=[c.lower() for c in games_detail.columns]\n",
    "\n",
    "games_detail.rename(columns={'to': 'turn'}, inplace=True)"
   ]
  },
  {
   "cell_type": "code",
   "execution_count": 10,
   "id": "dc21ae2f",
   "metadata": {},
   "outputs": [],
   "source": [
    "games_detail.drop(['nickname', 'start_position', 'comment'], axis=1, inplace=True)\n"
   ]
  },
  {
   "cell_type": "code",
   "execution_count": 11,
   "id": "3ca938fd",
   "metadata": {},
   "outputs": [],
   "source": [
    "# Creo una coluna game_details_id\n",
    "\n",
    "games_detail['games_detail_id'] = [i for i in range(1, len(games_detail)+1)]"
   ]
  },
  {
   "cell_type": "code",
   "execution_count": 12,
   "id": "f6637551",
   "metadata": {},
   "outputs": [],
   "source": [
    "# Hago regex para eleminar caracters raros al final, sustituyo nulos y cambio a int64\n",
    "\n",
    "games_detail['min'] = games_detail['min'].str.replace(r\"[:]+\\d+\", \"\", regex=True)\n",
    "\n",
    "# games_detail['min'].fillna(0, inplace=True)\n",
    "\n",
    "games_detail['min'] = games_detail['min'].astype('float64')"
   ]
  },
  {
   "cell_type": "code",
   "execution_count": 13,
   "id": "5c78143c",
   "metadata": {},
   "outputs": [],
   "source": [
    "# Sustituir valores nulos por ceros\n",
    "\n",
    "games_detail.fillna(0, inplace=True)"
   ]
  },
  {
   "cell_type": "code",
   "execution_count": 14,
   "id": "a5acb0b8",
   "metadata": {},
   "outputs": [],
   "source": [
    "# Elimino duplicados de game_detail_id\n",
    "\n",
    "games_detail.drop_duplicates(subset=['games_detail_id'], inplace=True)"
   ]
  },
  {
   "cell_type": "markdown",
   "id": "9c477746",
   "metadata": {},
   "source": [
    "### Players"
   ]
  },
  {
   "cell_type": "code",
   "execution_count": 15,
   "id": "d5c8a88d",
   "metadata": {},
   "outputs": [],
   "source": [
    "players.columns=[c.lower() for c in players.columns]"
   ]
  },
  {
   "cell_type": "code",
   "execution_count": 16,
   "id": "5d2cd9e3",
   "metadata": {},
   "outputs": [
    {
     "name": "stdout",
     "output_type": "stream",
     "text": [
      "<class 'pandas.core.frame.DataFrame'>\n",
      "RangeIndex: 7228 entries, 0 to 7227\n",
      "Data columns (total 4 columns):\n",
      " #   Column       Non-Null Count  Dtype \n",
      "---  ------       --------------  ----- \n",
      " 0   player_name  7228 non-null   object\n",
      " 1   team_id      7228 non-null   int64 \n",
      " 2   player_id    7228 non-null   int64 \n",
      " 3   season       7228 non-null   int64 \n",
      "dtypes: int64(3), object(1)\n",
      "memory usage: 226.0+ KB\n"
     ]
    }
   ],
   "source": [
    "players.info()"
   ]
  },
  {
   "cell_type": "code",
   "execution_count": 17,
   "id": "92a1f0eb",
   "metadata": {
    "scrolled": true
   },
   "outputs": [
    {
     "data": {
      "text/html": [
       "<div>\n",
       "<style scoped>\n",
       "    .dataframe tbody tr th:only-of-type {\n",
       "        vertical-align: middle;\n",
       "    }\n",
       "\n",
       "    .dataframe tbody tr th {\n",
       "        vertical-align: top;\n",
       "    }\n",
       "\n",
       "    .dataframe thead th {\n",
       "        text-align: right;\n",
       "    }\n",
       "</style>\n",
       "<table border=\"1\" class=\"dataframe\">\n",
       "  <thead>\n",
       "    <tr style=\"text-align: right;\">\n",
       "      <th></th>\n",
       "      <th>player_name</th>\n",
       "      <th>team_id</th>\n",
       "      <th>player_id</th>\n",
       "      <th>season</th>\n",
       "    </tr>\n",
       "  </thead>\n",
       "  <tbody>\n",
       "    <tr>\n",
       "      <th>199</th>\n",
       "      <td>LeBron James</td>\n",
       "      <td>1610612747</td>\n",
       "      <td>2544</td>\n",
       "      <td>2019</td>\n",
       "    </tr>\n",
       "    <tr>\n",
       "      <th>1066</th>\n",
       "      <td>LeBron James</td>\n",
       "      <td>1610612747</td>\n",
       "      <td>2544</td>\n",
       "      <td>2018</td>\n",
       "    </tr>\n",
       "    <tr>\n",
       "      <th>1387</th>\n",
       "      <td>LeBron James</td>\n",
       "      <td>1610612739</td>\n",
       "      <td>2544</td>\n",
       "      <td>2017</td>\n",
       "    </tr>\n",
       "    <tr>\n",
       "      <th>2096</th>\n",
       "      <td>LeBron James</td>\n",
       "      <td>1610612739</td>\n",
       "      <td>2544</td>\n",
       "      <td>2016</td>\n",
       "    </tr>\n",
       "    <tr>\n",
       "      <th>2771</th>\n",
       "      <td>LeBron James</td>\n",
       "      <td>1610612739</td>\n",
       "      <td>2544</td>\n",
       "      <td>2015</td>\n",
       "    </tr>\n",
       "    <tr>\n",
       "      <th>3452</th>\n",
       "      <td>LeBron James</td>\n",
       "      <td>1610612739</td>\n",
       "      <td>2544</td>\n",
       "      <td>2014</td>\n",
       "    </tr>\n",
       "    <tr>\n",
       "      <th>4136</th>\n",
       "      <td>LeBron James</td>\n",
       "      <td>1610612748</td>\n",
       "      <td>2544</td>\n",
       "      <td>2013</td>\n",
       "    </tr>\n",
       "    <tr>\n",
       "      <th>4802</th>\n",
       "      <td>LeBron James</td>\n",
       "      <td>1610612748</td>\n",
       "      <td>2544</td>\n",
       "      <td>2012</td>\n",
       "    </tr>\n",
       "    <tr>\n",
       "      <th>5439</th>\n",
       "      <td>LeBron James</td>\n",
       "      <td>1610612748</td>\n",
       "      <td>2544</td>\n",
       "      <td>2011</td>\n",
       "    </tr>\n",
       "    <tr>\n",
       "      <th>6020</th>\n",
       "      <td>LeBron James</td>\n",
       "      <td>1610612748</td>\n",
       "      <td>2544</td>\n",
       "      <td>2010</td>\n",
       "    </tr>\n",
       "    <tr>\n",
       "      <th>6681</th>\n",
       "      <td>LeBron James</td>\n",
       "      <td>1610612739</td>\n",
       "      <td>2544</td>\n",
       "      <td>2009</td>\n",
       "    </tr>\n",
       "  </tbody>\n",
       "</table>\n",
       "</div>"
      ],
      "text/plain": [
       "       player_name     team_id  player_id  season\n",
       "199   LeBron James  1610612747       2544    2019\n",
       "1066  LeBron James  1610612747       2544    2018\n",
       "1387  LeBron James  1610612739       2544    2017\n",
       "2096  LeBron James  1610612739       2544    2016\n",
       "2771  LeBron James  1610612739       2544    2015\n",
       "3452  LeBron James  1610612739       2544    2014\n",
       "4136  LeBron James  1610612748       2544    2013\n",
       "4802  LeBron James  1610612748       2544    2012\n",
       "5439  LeBron James  1610612748       2544    2011\n",
       "6020  LeBron James  1610612748       2544    2010\n",
       "6681  LeBron James  1610612739       2544    2009"
      ]
     },
     "execution_count": 17,
     "metadata": {},
     "output_type": "execute_result"
    }
   ],
   "source": [
    "players[players.player_name == \"LeBron James\"]"
   ]
  },
  {
   "cell_type": "markdown",
   "id": "f9c560d1",
   "metadata": {},
   "source": [
    "### Teams"
   ]
  },
  {
   "cell_type": "code",
   "execution_count": 18,
   "id": "616b3016",
   "metadata": {},
   "outputs": [],
   "source": [
    "teams.columns=[c.lower() for c in teams.columns]"
   ]
  },
  {
   "cell_type": "code",
   "execution_count": 19,
   "id": "0fdfeed1",
   "metadata": {},
   "outputs": [],
   "source": [
    "teams.city[teams.city=='Utah'] = 'Salt Lake City'\n",
    "teams.city[teams.city=='Brooklyn'] = 'New York'\n",
    "teams.city[teams.city=='Golden State'] = 'San Francisco'\n",
    "teams.city[teams.city=='Minnesota'] = 'Minneapolis'\n",
    "teams.city[teams.city=='Indiana'] = 'Indianapolis'\n"
   ]
  },
  {
   "cell_type": "markdown",
   "id": "f2fc638d",
   "metadata": {},
   "source": [
    "### Cities "
   ]
  },
  {
   "cell_type": "code",
   "execution_count": 20,
   "id": "569b0c9a",
   "metadata": {},
   "outputs": [],
   "source": [
    "cities.columns=[c.lower() for c in cities.columns]\n",
    "cities.columns=[c.replace('\\n', ' ') for c in cities.columns]\n",
    "cities.columns=[c.replace(' ', '_') for c in cities.columns]\n",
    "cities.columns=[c.replace('[c]', '') for c in cities.columns]"
   ]
  },
  {
   "cell_type": "code",
   "execution_count": 21,
   "id": "00868f0a",
   "metadata": {
    "scrolled": true
   },
   "outputs": [],
   "source": [
    "# Hago regex para eleminar caracters raros al final \n",
    "\n",
    "cities.city = cities.city.str.replace(r\"[[]+[\\w]+[]]\", \"\", regex=True)\n",
    "\n"
   ]
  },
  {
   "cell_type": "code",
   "execution_count": 22,
   "id": "0142ae28",
   "metadata": {},
   "outputs": [],
   "source": [
    "cities.drop(['2010_census', 'change', '2020_land_area', '2020_population_density'], axis=1, inplace=True)"
   ]
  },
  {
   "cell_type": "code",
   "execution_count": 23,
   "id": "3afaa161",
   "metadata": {},
   "outputs": [],
   "source": [
    "\n",
    "# Para añadir datos \n",
    "\n",
    "df2 = pd.DataFrame({'city': ['Toronto'],\n",
    "                    'state' : ['Ontario'], '2020_census': ['7,853,815'], 'location': ['43.40°N 79.23°O']})\n",
    "\n",
    "cities = pd.concat([cities, df2], ignore_index = True, axis = 0)"
   ]
  },
  {
   "cell_type": "code",
   "execution_count": 24,
   "id": "b378df4f",
   "metadata": {},
   "outputs": [],
   "source": [
    "# Creo una coluna city_id\n",
    "\n",
    "cities['city_id'] = [i for i in range(1, len(cities)+1)]"
   ]
  },
  {
   "cell_type": "code",
   "execution_count": 25,
   "id": "0c838a1f",
   "metadata": {},
   "outputs": [],
   "source": [
    "# Elimino duplicados de city_id\n",
    "\n",
    "cities.drop_duplicates(subset=['city_id'], inplace=True)\n"
   ]
  },
  {
   "cell_type": "code",
   "execution_count": 26,
   "id": "81168c5b",
   "metadata": {},
   "outputs": [],
   "source": [
    "# Elimino duplicados de city_id\n",
    "\n",
    "cities.drop_duplicates(subset=['city_id'], inplace=True)"
   ]
  },
  {
   "cell_type": "markdown",
   "id": "f4c1e627",
   "metadata": {},
   "source": [
    "### Modificio tabla teams"
   ]
  },
  {
   "cell_type": "code",
   "execution_count": 27,
   "id": "f33c32cc",
   "metadata": {},
   "outputs": [],
   "source": [
    "# Hago un left join a teams por city para \n",
    "\n",
    "teams = teams.set_index('city').join(cities[[\"city\", \"city_id\"]].set_index('city'), how='left')\n",
    "\n",
    "teams.reset_index(inplace=True)\n"
   ]
  },
  {
   "cell_type": "code",
   "execution_count": 28,
   "id": "ef28732a",
   "metadata": {},
   "outputs": [],
   "source": [
    "# Sustituir valores nulos por ceros\n",
    "\n",
    "teams.fillna(0, inplace=True)"
   ]
  },
  {
   "cell_type": "markdown",
   "id": "79d88fe8",
   "metadata": {},
   "source": [
    "### Players size"
   ]
  },
  {
   "cell_type": "code",
   "execution_count": 29,
   "id": "4806c487",
   "metadata": {},
   "outputs": [],
   "source": [
    "player_size.columns=[c.lower() for c in player_size.columns]"
   ]
  },
  {
   "cell_type": "code",
   "execution_count": 30,
   "id": "7144a401",
   "metadata": {},
   "outputs": [],
   "source": [
    "# Creo una columna y concateno first name y last name\n",
    "\n",
    "player_size['player_name'] = player_size['first_name'] + ' ' + player_size['last_name']"
   ]
  },
  {
   "cell_type": "code",
   "execution_count": 31,
   "id": "01b7fb47",
   "metadata": {},
   "outputs": [],
   "source": [
    "player_size.drop(['team', 'first_name', 'last_name'], axis=1, inplace=True)"
   ]
  },
  {
   "cell_type": "code",
   "execution_count": 32,
   "id": "daf8623e",
   "metadata": {},
   "outputs": [],
   "source": [
    "# Me quedo con las filas que no tengan nulos en esos campos\n",
    "\n",
    "player_size = player_size[player_size[['height_feet', 'height_inches', 'weight_pounds']].notnull().any(axis=1)]"
   ]
  },
  {
   "cell_type": "code",
   "execution_count": 33,
   "id": "e679ca8f",
   "metadata": {},
   "outputs": [],
   "source": [
    "# Elimino los valores nulos en player name\n",
    "\n",
    "player_size = player_size[player_size.player_name.notna()]"
   ]
  },
  {
   "cell_type": "code",
   "execution_count": 34,
   "id": "486952e4",
   "metadata": {},
   "outputs": [],
   "source": [
    "# Relleno la columna position con el 'unk'\n",
    "\n",
    "player_size.position.fillna('unk', inplace=True)"
   ]
  },
  {
   "cell_type": "code",
   "execution_count": 35,
   "id": "8835906e",
   "metadata": {},
   "outputs": [],
   "source": [
    "# Creo una columna con el peso y altura en SI\n",
    "\n",
    "player_size['weight_kg'] = round(player_size.weight_pounds * 0.453592, 2)\n",
    "\n",
    "player_size['height_cm'] = round((player_size.height_inches * 2.54) + (player_size.height_feet * 30.48))\n",
    "\n"
   ]
  },
  {
   "cell_type": "code",
   "execution_count": 36,
   "id": "164ce501",
   "metadata": {},
   "outputs": [],
   "source": [
    "# Elimino las columnas que no quiero\n",
    "\n",
    "player_size.drop(['height_feet','height_inches', 'weight_pounds'], axis=1, inplace=True)\n"
   ]
  },
  {
   "cell_type": "markdown",
   "id": "2a456c92",
   "metadata": {},
   "source": [
    "### Modifico tabla de Player"
   ]
  },
  {
   "cell_type": "code",
   "execution_count": 37,
   "id": "160c9fb6",
   "metadata": {},
   "outputs": [],
   "source": [
    "### Modifico players para añadirle altura, peso y posición\n",
    "\n",
    "\n",
    "players = players.set_index('player_name').join(player_size[[\"player_name\", \"position\",'height_cm', 'weight_kg']].set_index('player_name'), how='left')\n",
    "\n",
    "players.reset_index(inplace=True)\n",
    "\n",
    "players.position.fillna('unk', inplace=True)\n",
    "\n",
    "players.fillna(0, inplace=True)"
   ]
  },
  {
   "cell_type": "code",
   "execution_count": 38,
   "id": "85f936e7",
   "metadata": {},
   "outputs": [],
   "source": [
    "# Elimino duplicados de game_id\n",
    "\n",
    "players.drop_duplicates(subset=['player_id'], inplace=True)"
   ]
  },
  {
   "cell_type": "code",
   "execution_count": 39,
   "id": "3fa50f6c",
   "metadata": {},
   "outputs": [
    {
     "name": "stdout",
     "output_type": "stream",
     "text": [
      "<class 'pandas.core.frame.DataFrame'>\n",
      "Int64Index: 1769 entries, 0 to 7227\n",
      "Data columns (total 7 columns):\n",
      " #   Column       Non-Null Count  Dtype  \n",
      "---  ------       --------------  -----  \n",
      " 0   player_name  1769 non-null   object \n",
      " 1   team_id      1769 non-null   int64  \n",
      " 2   player_id    1769 non-null   int64  \n",
      " 3   season       1769 non-null   int64  \n",
      " 4   position     1769 non-null   object \n",
      " 5   height_cm    1769 non-null   float64\n",
      " 6   weight_kg    1769 non-null   float64\n",
      "dtypes: float64(2), int64(3), object(2)\n",
      "memory usage: 110.6+ KB\n"
     ]
    }
   ],
   "source": [
    "players.info()"
   ]
  },
  {
   "cell_type": "markdown",
   "id": "0d7cbfb4",
   "metadata": {},
   "source": [
    "### Exporto los dataframe a csv"
   ]
  },
  {
   "cell_type": "code",
   "execution_count": 40,
   "id": "43f13afe",
   "metadata": {},
   "outputs": [],
   "source": [
    "games.to_csv('../data/data_sql/games.csv', sep=',', index=False)\n",
    "games_detail.to_csv('../data/data_sql/games_detail.csv', sep=',', index=False)\n",
    "players.to_csv('../data/data_sql/players.csv', sep=',', index=False)\n",
    "teams.to_csv('../data/data_sql/teams.csv', sep=',', index=False)\n",
    "cities.to_csv('../data/data_sql/cities.csv', sep=',', index=False)\n"
   ]
  },
  {
   "cell_type": "code",
   "execution_count": null,
   "id": "7b28152c",
   "metadata": {},
   "outputs": [],
   "source": []
  },
  {
   "cell_type": "code",
   "execution_count": null,
   "id": "a8daf056",
   "metadata": {},
   "outputs": [],
   "source": []
  }
 ],
 "metadata": {
  "kernelspec": {
   "display_name": "clase",
   "language": "python",
   "name": "clase"
  },
  "language_info": {
   "codemirror_mode": {
    "name": "ipython",
    "version": 3
   },
   "file_extension": ".py",
   "mimetype": "text/x-python",
   "name": "python",
   "nbconvert_exporter": "python",
   "pygments_lexer": "ipython3",
   "version": "3.9.7"
  }
 },
 "nbformat": 4,
 "nbformat_minor": 5
}
